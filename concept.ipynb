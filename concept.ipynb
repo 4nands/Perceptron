{
  "nbformat": 4,
  "nbformat_minor": 0,
  "metadata": {
    "colab": {
      "provenance": [],
      "authorship_tag": "ABX9TyOBkuSFvhQSuoqU/liCvvfX",
      "include_colab_link": true
    },
    "kernelspec": {
      "name": "python3",
      "display_name": "Python 3"
    },
    "language_info": {
      "name": "python"
    }
  },
  "cells": [
    {
      "cell_type": "markdown",
      "metadata": {
        "id": "view-in-github",
        "colab_type": "text"
      },
      "source": [
        "<a href=\"https://colab.research.google.com/github/4nands/Perceptron/blob/main/concept.ipynb\" target=\"_parent\"><img src=\"https://colab.research.google.com/assets/colab-badge.svg\" alt=\"Open In Colab\"/></a>"
      ]
    },
    {
      "cell_type": "code",
      "execution_count": null,
      "metadata": {
        "colab": {
          "base_uri": "https://localhost:8080/"
        },
        "id": "pXf6DCihcLL8",
        "outputId": "26a010aa-ddba-4fa7-b9c7-b64c04a65529"
      },
      "outputs": [
        {
          "output_type": "stream",
          "name": "stdout",
          "text": [
            "1\n"
          ]
        }
      ],
      "source": [
        "#パーセプトロン\n",
        "#1958 ローゼンブラット\n",
        "#人工ニューロン\n",
        "\n",
        "#模試の結果から志望校の合否を判定\n",
        "\n",
        "#入力データ\n",
        "x1=80   #数学の点数\n",
        "x2=40   #英語の点数\n",
        "\n",
        "#重み\n",
        "w1=0.8\n",
        "w2=0.2\n",
        "\n",
        "b=-50     #バイアス\n",
        "\n",
        "a=x1*w1+x2*w2+b   #合否の判定に使用する得点\n",
        "\n",
        "#出力データ\n",
        "if a>0:\n",
        "  y=1     #合格\n",
        "else:\n",
        "  y=0     #不合格\n",
        "\n",
        "print(y)    #結果の出力"
      ]
    }
  ]
}