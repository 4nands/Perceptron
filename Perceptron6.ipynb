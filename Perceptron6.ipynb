{
  "nbformat": 4,
  "nbformat_minor": 0,
  "metadata": {
    "colab": {
      "provenance": [],
      "collapsed_sections": [],
      "authorship_tag": "ABX9TyM7a9xJYS8wWmBEZrxKEMdH",
      "include_colab_link": true
    },
    "kernelspec": {
      "name": "python3",
      "display_name": "Python 3"
    },
    "language_info": {
      "name": "python"
    }
  },
  "cells": [
    {
      "cell_type": "markdown",
      "metadata": {
        "id": "view-in-github",
        "colab_type": "text"
      },
      "source": [
        "<a href=\"https://colab.research.google.com/github/4nands/Perceptron/blob/main/Perceptron6.ipynb\" target=\"_parent\"><img src=\"https://colab.research.google.com/assets/colab-badge.svg\" alt=\"Open In Colab\"/></a>"
      ]
    },
    {
      "cell_type": "code",
      "execution_count": 11,
      "metadata": {
        "id": "MvPLnZ2uqwHz"
      },
      "outputs": [],
      "source": [
        "import numpy as np\n",
        "\n",
        "class Perceptron:\n",
        "  def __init__(self): \n",
        "    #コンストラクタ\n",
        "    self.W=np.random.randn(2,1)  #重みの初期化\n",
        "    self.b=-0                     #バイアスの初期化\n",
        "    self.X=None               #入力データの保存用\n",
        "  \n",
        "  def forward(self,X):\n",
        "    #順伝播\n",
        "    a=np.matmul(X,self.W)+self.b\n",
        "    y=(a>0)*1\n",
        "    self.X=X        #入力データを保存\n",
        "    return y\n",
        "  \n",
        "  def backward(self,delta):\n",
        "    #逆伝播\n",
        "\n",
        "    #勾配\n",
        "    dW=np.matmul(self.X.T,delta)\n",
        "    db=np.sum(delta)\n",
        "\n",
        "    lr=0.1\n",
        "\n",
        "    #SGD パラメータの更新\n",
        "    self.W-=lr*dW\n",
        "    self.b-=lr*db\n",
        "  \n",
        "  def step(self,X,t):\n",
        "    #一回分の学習\n",
        "\n",
        "    y=self.forward(X)   #予測\n",
        "    delta=y-t           #誤差\n",
        "    self.backward(delta) #逆伝播してパラメータを更新\n",
        "  def fit(self,X,t,epochs=100):\n",
        "    #学習\n",
        "    for __ in range(epochs): #epochsはエポック数\n",
        "      self.step(X,t)  #１回分の学習\n",
        "    \n",
        "\n",
        "np.random.seed(0)   #乱数の初期化\n",
        "\n",
        "#教師データ\n",
        "X=np.array([[0,0],[1,0],[0,1],[1,1]]) #入力データ\n",
        "t_and=np.array([[0],[0],[0],[1]])         #ANDの正解ラベル\n",
        "t_or=np.array([[0],[1],[1],[1]])         #ORの正解ラベル\n",
        "#t=np.array([[1],[1],[1],[0]])         #NAND正解ラベル\n",
        "#t=np.array([[0],[1],[1],[0]])         #XOR正解ラベル\n",
        "\n",
        "model_and=Perceptron()   #ANDゲート\n",
        "model_and.fit(X,t_and)        #学習\n",
        "\n",
        "model_or=Perceptron()   #ORゲート\n",
        "model_or.fit(X,t_or)        #学習\n",
        "\n"
      ]
    },
    {
      "cell_type": "code",
      "source": [
        "#XORゲート\n",
        "y_and=model_and.forward(X)  #AND\n",
        "y_or=model_or.forward(X)    #OR\n",
        "y_and_not=(y_and==0)*1      #NOT\n",
        "X2=np.concatenate((y_and_not,y_or),axis=1)    #入力データの成形\n",
        "y=model_and.forward(X2)         #AND(NOT(AND（x1,x2)),OR(x1,x2))を計算したことになる。\n",
        "\n",
        "\n"
      ],
      "metadata": {
        "id": "YKyE6KFC-3IA"
      },
      "execution_count": null,
      "outputs": []
    }
  ]
}