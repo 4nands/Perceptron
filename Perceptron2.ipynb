{
  "nbformat": 4,
  "nbformat_minor": 0,
  "metadata": {
    "colab": {
      "provenance": [],
      "collapsed_sections": [],
      "authorship_tag": "ABX9TyNsYUM/IrCDOFpcQfNdGsN4",
      "include_colab_link": true
    },
    "kernelspec": {
      "name": "python3",
      "display_name": "Python 3"
    },
    "language_info": {
      "name": "python"
    }
  },
  "cells": [
    {
      "cell_type": "markdown",
      "metadata": {
        "id": "view-in-github",
        "colab_type": "text"
      },
      "source": [
        "<a href=\"https://colab.research.google.com/github/4nands/Perceptron/blob/main/Perceptron2.ipynb\" target=\"_parent\"><img src=\"https://colab.research.google.com/assets/colab-badge.svg\" alt=\"Open In Colab\"/></a>"
      ]
    },
    {
      "cell_type": "code",
      "execution_count": null,
      "metadata": {
        "id": "MvPLnZ2uqwHz"
      },
      "outputs": [],
      "source": [
        "import numpy as np\n",
        "\n",
        "class Perceptron:\n",
        "  def __init__(self): \n",
        "    #コンストラクタ\n",
        "    self.W=np.random.randn(2,1)  #重みの初期化\n",
        "    self.b=-0                     #バイアスの初期化\n",
        "    self.X=None               #入力データの保存用\n",
        "  \n",
        "  def forward(self,X):\n",
        "    #順伝播\n",
        "    a=np.matmul(X,self.W)+self.b\n",
        "    y=(a>0)*1\n",
        "    self.X=X        #入力データを保存\n",
        "    return y\n",
        "  \n",
        "  def backward(self,delta):\n",
        "    #逆伝播\n",
        "\n",
        "    #勾配\n",
        "    dW=np.matmul(self.X.T,delta)\n",
        "    db=np.sum(delta)\n",
        "    \n",
        "\n",
        "np.random.seed(0)   #乱数の初期化\n",
        "\n",
        "#教師データ\n",
        "X=np.array([[0,0],[1,0],[1,0],[1,1]]) #入力データ\n",
        "t=np.array([[0],[0],[0],[1]])         #正解ラベル\n",
        "\n",
        "model=Perceptron()   #インスタンス化\n",
        "y=model.forward(X)\n",
        "delta=y-t\n",
        "\n",
        "print(delta)\n"
      ]
    }
  ]
}