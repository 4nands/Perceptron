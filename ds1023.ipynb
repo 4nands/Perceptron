{
  "nbformat": 4,
  "nbformat_minor": 0,
  "metadata": {
    "colab": {
      "provenance": [],
      "authorship_tag": "ABX9TyPGxW0Q3RiYNwp/DHgO719p",
      "include_colab_link": true
    },
    "kernelspec": {
      "name": "python3",
      "display_name": "Python 3"
    },
    "language_info": {
      "name": "python"
    }
  },
  "cells": [
    {
      "cell_type": "markdown",
      "metadata": {
        "id": "view-in-github",
        "colab_type": "text"
      },
      "source": [
        "<a href=\"https://colab.research.google.com/github/4nands/Perceptron/blob/main/ds1023.ipynb\" target=\"_parent\"><img src=\"https://colab.research.google.com/assets/colab-badge.svg\" alt=\"Open In Colab\"/></a>"
      ]
    },
    {
      "cell_type": "code",
      "execution_count": null,
      "metadata": {
        "id": "GsavdFl98xjp"
      },
      "outputs": [],
      "source": [
        "import numpy as np\n",
        "\n",
        "#パーセプトロン\n",
        "\n",
        "class Perceptron:\n",
        "  def __init__(self):\n",
        "    #コンストラクタ\n",
        "    self.W=np.array([[0.5],[0.5]])  #重み\n",
        "    self.b=-0.7                     #バイアス\n",
        "    self.X=None                     #入力データの保存\n",
        "\n",
        "  def forward(self,X):\n",
        "    #順伝播\n",
        "    a=np.matmul(X,self.W)+self.b    #リニアーな変換\n",
        "    y=(a>0)*1                       #ステップ変換,\n",
        "    return y\n",
        "\n",
        "X=np.array([[0,0],[1,0],[0,1],[1,1]])   #入力データ\n",
        "\n",
        "model=Perceptron()   #パーセプトロンを実体化する\n",
        "pred=model.forward(X)        #入力データから出力データを得る。predは予測値\n",
        "\n",
        "print(pred)           #予測値を表示    \n"
      ]
    },
    {
      "cell_type": "code",
      "source": [
        "import matplotlib.pyplot as plt\n",
        "from matplotlib.colors import ListedColormap\n",
        "\n",
        "def decision_regions(x,y,model):\n",
        "  \n",
        "  #平面を分割する。\n",
        "  \n",
        "  #グリッドの作成\n",
        "  x1=np.arange(-0.1,1.1,0.02)   #横軸\n",
        "  x2=np.arange(-0.1,1.1,0.02)   #縦軸\n",
        "  xx1,xx2=np.meshgrid(x1,x2)    #メッシュ\n",
        "  z=np.array([xx1.ravel(),xx2.ravel()]).T   #座標点の作成\n",
        "  \n",
        "  \n",
        "  Z=model.forward(z).reshape(xx1.shape)   #各座標点を分類する\n",
        "\n",
        "  plt.contourf(xx1,xx2,Z,alpha=0.2,cmap=ListedColormap(['red','blue'])) #平面の分割\n",
        "\n",
        "  y=y.flatten()\n",
        "\n",
        "  #データをプロットする。\n",
        "  plt.scatter(x[y==0,0],x[y==0,1],c='red')\n",
        "  plt.scatter(x[y==1,0],x[y==1,1],c='blue')\n",
        "  \n",
        "#動作の確認\n",
        "decision_regions(X,t,model)"
      ],
      "metadata": {
        "id": "jXf6qlPEDuRu"
      },
      "execution_count": null,
      "outputs": []
    }
  ]
}