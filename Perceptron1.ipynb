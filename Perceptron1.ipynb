{
  "nbformat": 4,
  "nbformat_minor": 0,
  "metadata": {
    "colab": {
      "provenance": [],
      "collapsed_sections": [],
      "authorship_tag": "ABX9TyNZMmW8YsbIpwAJd3ohdw/f",
      "include_colab_link": true
    },
    "kernelspec": {
      "name": "python3",
      "display_name": "Python 3"
    },
    "language_info": {
      "name": "python"
    }
  },
  "cells": [
    {
      "cell_type": "markdown",
      "metadata": {
        "id": "view-in-github",
        "colab_type": "text"
      },
      "source": [
        "<a href=\"https://colab.research.google.com/github/4nands/Perceptron/blob/main/Perceptron1.ipynb\" target=\"_parent\"><img src=\"https://colab.research.google.com/assets/colab-badge.svg\" alt=\"Open In Colab\"/></a>"
      ]
    },
    {
      "cell_type": "code",
      "execution_count": 19,
      "metadata": {
        "id": "MvPLnZ2uqwHz",
        "colab": {
          "base_uri": "https://localhost:8080/"
        },
        "outputId": "9ca5580e-7934-433a-a43e-657dc313181b"
      },
      "outputs": [
        {
          "output_type": "stream",
          "name": "stdout",
          "text": [
            "[[0]\n",
            " [1]\n",
            " [1]\n",
            " [1]]\n"
          ]
        }
      ],
      "source": [
        "import numpy as np\n",
        "\n",
        "class Perceptron:\n",
        "  def __init__(self): \n",
        "    #コンストラクタ\n",
        "    self.W=np.random.randn(2,1)  #重みの初期化\n",
        "    self.b=-0                     #バイアスの初期化\n",
        "  \n",
        "  def forward(self,X):\n",
        "    #順伝播\n",
        "    a=np.matmul(X,self.W)+self.b\n",
        "    y=(a>0)*1\n",
        "\n",
        "    return y\n",
        "\n",
        "np.random.seed(0)   #乱数の初期化\n",
        "\n",
        "X=np.array([[0,0],[1,0],[1,0],[1,1]]) #入力データ\n",
        "\n",
        "model=Perceptron()   #インスタンス化\n",
        "y=model.forward(X)\n",
        "\n",
        "print(y)"
      ]
    }
  ]
}