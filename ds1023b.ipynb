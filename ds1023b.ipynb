{
  "nbformat": 4,
  "nbformat_minor": 0,
  "metadata": {
    "colab": {
      "provenance": [],
      "authorship_tag": "ABX9TyPk4XAXou5fZPyxZaoEWOK/",
      "include_colab_link": true
    },
    "kernelspec": {
      "name": "python3",
      "display_name": "Python 3"
    },
    "language_info": {
      "name": "python"
    }
  },
  "cells": [
    {
      "cell_type": "markdown",
      "metadata": {
        "id": "view-in-github",
        "colab_type": "text"
      },
      "source": [
        "<a href=\"https://colab.research.google.com/github/4nands/Perceptron/blob/main/ds1023b.ipynb\" target=\"_parent\"><img src=\"https://colab.research.google.com/assets/colab-badge.svg\" alt=\"Open In Colab\"/></a>"
      ]
    },
    {
      "cell_type": "code",
      "execution_count": null,
      "metadata": {
        "id": "GsavdFl98xjp",
        "colab": {
          "base_uri": "https://localhost:8080/",
          "height": 283
        },
        "outputId": "cc2b6919-fab6-40b3-c8d4-574eeba3ca6f"
      },
      "outputs": [
        {
          "output_type": "execute_result",
          "data": {
            "text/plain": [
              "[<matplotlib.lines.Line2D at 0x7f149213d8d0>]"
            ]
          },
          "metadata": {},
          "execution_count": 89
        },
        {
          "output_type": "display_data",
          "data": {
            "text/plain": [
              "<Figure size 432x288 with 1 Axes>"
            ],
            "image/png": "[encoded data removed]"
          },
          "metadata": {
            "needs_background": "light"
          }
        }
      ],
      "source": [
        "import numpy as np\n",
        "\n",
        "def sse(y,t):\n",
        "  return np.sum((y-t)**2)*0.5\n",
        "\n",
        "#パーセプトロン\n",
        "class Perceptron:\n",
        "  def __init__(self):\n",
        "    #コンストラクタ\n",
        "    self.W=np.random.randn(2,1) #重み\n",
        "    self.b=0                     #バイアス\n",
        "    self.X=None                     #入力データの保存\n",
        "\n",
        "  def forward(self,X):\n",
        "    #順伝播\n",
        "    a=np.matmul(X,self.W)+self.b    #リニアーな変換\n",
        "    y=(a>0)*1                       #ステップ関数\n",
        "    self.X=X                        #入力データの保存\n",
        "    return y\n",
        "  def step(self,X,t):\n",
        "    y=self.forward(X)\n",
        "    delta=y-t\n",
        "    self.backward(delta)\n",
        "    return sse(y,t)\n",
        "  def backward(self,delta):\n",
        "    #勾配\n",
        "    dW=np.matmul(self.X.T,delta)\n",
        "    db=np.sum(delta)\n",
        "    \n",
        "    #SGD\n",
        "    self.W-=0.1*dW\n",
        "    self.b-=0.1*db\n",
        "  def fit(self,X,t,epochs=100):\n",
        "    #学習\n",
        "    loss=[]\n",
        "    for i in range(epochs):\n",
        "      l=self.step(X,t)\n",
        "      loss.append(l)\n",
        "    return loss\n",
        "\n",
        "\n",
        "\n",
        "np.random.seed(0)\n",
        "\n",
        "X=np.array([[0,0],[1,0],[0,1],[1,1]])   #入力データ\n",
        "t=np.array([[1],[1],[1],[0]])\n",
        "\n",
        "model=Perceptron()   #パーセプトロンを実体化する\n",
        "loss=model.fit(X,t,epochs=25)\n",
        "\n",
        "plt.plot(loss)"
      ]
    },
    {
      "cell_type": "code",
      "source": [
        "x=[1,3]\n",
        "print(x)\n",
        "x.append(4)\n",
        "print(x)"
      ],
      "metadata": {
        "colab": {
          "base_uri": "https://localhost:8080/"
        },
        "id": "2HltAacrfRlo",
        "outputId": "646045a0-5e3e-4fa4-f03b-292628fc4f9c"
      },
      "execution_count": null,
      "outputs": [
        {
          "output_type": "stream",
          "name": "stdout",
          "text": [
            "[1, 3]\n",
            "[1, 3, 4]\n"
          ]
        }
      ]
    },
    {
      "cell_type": "code",
      "source": [
        "import matplotlib.pyplot as plt\n",
        "\n",
        "x=np.arange(-1,1,0.01)\n",
        "y=x**2\n",
        "\n",
        "plt.plot(x,y)\n",
        "plt.show()\n"
      ],
      "metadata": {
        "colab": {
          "base_uri": "https://localhost:8080/",
          "height": 265
        },
        "id": "xP05oFHUTF0T",
        "outputId": "2c2d4429-42ea-4563-f6f9-0b9742224a51"
      },
      "execution_count": null,
      "outputs": [
        {
          "output_type": "display_data",
          "data": {
            "text/plain": [
              "<Figure size 432x288 with 1 Axes>"
            ],
            "image/png": "[encoded data removed]"
          },
          "metadata": {
            "needs_background": "light"
          }
        }
      ]
    },
    {
      "cell_type": "code",
      "source": [
        "for i in range(10):\n",
        "  print(i)"
      ],
      "metadata": {
        "id": "p9OtZ6kdLmui"
      },
      "execution_count": null,
      "outputs": []
    },
    {
      "cell_type": "code",
      "source": [
        "import matplotlib.pyplot as plt\n",
        "from matplotlib.colors import ListedColormap\n",
        "\n",
        "def decision_regions(x,y,model):\n",
        "  \n",
        "  #平面を分割する。\n",
        "  \n",
        "  #グリッドの作成\n",
        "  x1=np.arange(-0.1,1.1,0.02)   #横軸\n",
        "  x2=np.arange(-0.1,1.1,0.02)   #縦軸\n",
        "  xx1,xx2=np.meshgrid(x1,x2)    #メッシュ\n",
        "  z=np.array([xx1.ravel(),xx2.ravel()]).T   #座標点の作成\n",
        "  \n",
        "  \n",
        "  Z=model.forward(z).reshape(xx1.shape)   #各座標点を分類する\n",
        "\n",
        "  plt.contourf(xx1,xx2,Z,alpha=0.2,cmap=ListedColormap(['red','blue'])) #平面の分割\n",
        "\n",
        "  y=y.flatten()\n",
        "\n",
        "  #データをプロットする。\n",
        "  plt.scatter(x[y==0,0],x[y==0,1],c='red')\n",
        "  plt.scatter(x[y==1,0],x[y==1,1],c='blue')\n",
        "  \n",
        "#動作の確認\n",
        "decision_regions(X,t,model)"
      ],
      "metadata": {
        "id": "jXf6qlPEDuRu",
        "colab": {
          "base_uri": "https://localhost:8080/",
          "height": 265
        },
        "outputId": "2b008f3f-5436-474f-a069-3a3774cf4cf3"
      },
      "execution_count": null,
      "outputs": [
        {
          "output_type": "display_data",
          "data": {
            "text/plain": [
              "<Figure size 432x288 with 1 Axes>"
            ],
            "image/png": "[encoded data removed]"
          },
          "metadata": {
            "needs_background": "light"
          }
        }
      ]
    }
  ]
}