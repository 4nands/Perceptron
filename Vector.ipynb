{
  "nbformat": 4,
  "nbformat_minor": 0,
  "metadata": {
    "colab": {
      "provenance": [],
      "authorship_tag": "ABX9TyMgTVtH8C4bxgSiu5NuqMOk",
      "include_colab_link": true
    },
    "kernelspec": {
      "name": "python3",
      "display_name": "Python 3"
    },
    "language_info": {
      "name": "python"
    }
  },
  "cells": [
    {
      "cell_type": "markdown",
      "metadata": {
        "id": "view-in-github",
        "colab_type": "text"
      },
      "source": [
        "<a href=\"https://colab.research.google.com/github/4nands/Perceptron/blob/main/Vector.ipynb\" target=\"_parent\"><img src=\"https://colab.research.google.com/assets/colab-badge.svg\" alt=\"Open In Colab\"/></a>"
      ]
    },
    {
      "cell_type": "code",
      "execution_count": null,
      "metadata": {
        "id": "1RhSs5ELncxa"
      },
      "outputs": [],
      "source": [
        "#ANDゲート\n",
        "\n",
        "import numpy as np\n",
        "\n",
        "X=np.array([0,0])     #X=[x1,x2]\n",
        "W=np.array([0.5,0.5]) #W=[w1,w2]\n",
        "b=-0.7\n",
        "\n",
        "a=np.matmul(X,W)+b    #x1*w1+x2*w2+b\n",
        "\n",
        "y=(a>0)*1 #出力データ\n",
        "\n",
        "print(y)  #結果を表示"
      ]
    }
  ]
}