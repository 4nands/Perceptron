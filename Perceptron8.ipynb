{
  "nbformat": 4,
  "nbformat_minor": 0,
  "metadata": {
    "colab": {
      "provenance": [],
      "collapsed_sections": [],
      "authorship_tag": "ABX9TyOAP0RkHFQgmEklIcuB2J1c",
      "include_colab_link": true
    },
    "kernelspec": {
      "name": "python3",
      "display_name": "Python 3"
    },
    "language_info": {
      "name": "python"
    }
  },
  "cells": [
    {
      "cell_type": "markdown",
      "metadata": {
        "id": "view-in-github",
        "colab_type": "text"
      },
      "source": [
        "<a href=\"https://colab.research.google.com/github/4nands/Perceptron/blob/main/Perceptron8.ipynb\" target=\"_parent\"><img src=\"https://colab.research.google.com/assets/colab-badge.svg\" alt=\"Open In Colab\"/></a>"
      ]
    },
    {
      "cell_type": "code",
      "execution_count": 1,
      "metadata": {
        "id": "MvPLnZ2uqwHz"
      },
      "outputs": [],
      "source": [
        "import numpy as np\n",
        "\n",
        "class Perceptron:\n",
        "  def __init__(self): \n",
        "    #コンストラクタ\n",
        "    self.W=np.random.randn(2,1)  #重みの初期化\n",
        "    self.b=-0                     #バイアスの初期化\n",
        "    self.X=None               #入力データの保存用\n",
        "  \n",
        "  def forward(self,X):\n",
        "    #順伝播\n",
        "    a=np.matmul(X,self.W)+self.b\n",
        "    y=(a>0)*1       #活性化関数\n",
        "    self.X=X        #入力データを保存\n",
        "    return y\n",
        "  \n",
        "  def backward(self,delta):\n",
        "    #逆伝播\n",
        "\n",
        "    #勾配\n",
        "    dW=np.matmul(self.X.T,delta)\n",
        "    db=np.sum(delta)\n",
        "\n",
        "    lr=0.1\n",
        "\n",
        "    #SGD パラメータの更新\n",
        "    self.W-=lr*dW\n",
        "    self.b-=lr*db\n",
        "  \n",
        "  def step(self,X,t):\n",
        "    #一回分の学習\n",
        "\n",
        "    y=self.forward(X)   #予測\n",
        "    delta=y-t           #誤差\n",
        "    self.backward(delta) #逆伝播してパラメータを更新\n",
        "  def fit(self,X,t,epochs=100):\n",
        "    #学習\n",
        "    for __ in range(epochs): #epochsはエポック数\n",
        "      self.step(X,t)  #１回分の学習\n",
        "    \n",
        "\n",
        "np.random.seed(0)   #乱数の初期化\n",
        "\n",
        "#教師データ\n",
        "X=np.array([[0,0],[1,0],[0,1],[1,1]]) #入力データ\n",
        "t=np.array([[0],[0],[0],[1]])         #ANDの正解ラベル\n",
        "\n",
        "model=Perceptron()   #ANDゲート\n",
        "\n"
      ]
    },
    {
      "cell_type": "code",
      "source": [
        "import matplotlib.pyplot as plt\n",
        "\n",
        "x=np.arange(-10,10,0.01)              #xの値を-10〜10の間で生成、0.01は刻み幅\n",
        "y=(x>0)*1     #ステップ関数\n",
        "\n",
        "plt.plot(x,y)    #グラフを描く\n",
        "plt.show()          #表示"
      ],
      "metadata": {
        "id": "1e1m1OVbF3pz",
        "colab": {
          "base_uri": "https://localhost:8080/",
          "height": 265
        },
        "outputId": "97b8073f-5230-4188-e719-c5d7e921c962"
      },
      "execution_count": 3,
      "outputs": [
        {
          "output_type": "display_data",
          "data": {
            "text/plain": [
              "<Figure size 432x288 with 1 Axes>"
            ],
            "image/png": "[encoded data removed]"
          },
          "metadata": {
            "needs_background": "light"
          }
        }
      ]
    },
    {
      "cell_type": "code",
      "source": [
        "e=np.exp(1)   #e=2.71828.....　自然対数の底\n",
        "\n",
        "y=1/(1+np.exp(-x)+1e-6)    #シグモイド関数 1e-6は分母が0になるのを防ぐため\n",
        "plt.plot(x,y) #グラフを描く\n",
        "plt.show()    #表示\n"
      ],
      "metadata": {
        "colab": {
          "base_uri": "https://localhost:8080/",
          "height": 265
        },
        "id": "wNUD9RD6NV2e",
        "outputId": "2faa612c-0530-42a9-d855-9ad835828df2"
      },
      "execution_count": 12,
      "outputs": [
        {
          "output_type": "display_data",
          "data": {
            "text/plain": [
              "<Figure size 432x288 with 1 Axes>"
            ],
            "image/png": "[encoded data removed]"
          },
          "metadata": {
            "needs_background": "light"
          }
        }
      ]
    }
  ]
}