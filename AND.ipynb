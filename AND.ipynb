{
  "nbformat": 4,
  "nbformat_minor": 0,
  "metadata": {
    "colab": {
      "provenance": [],
      "authorship_tag": "ABX9TyPPjQqyK8glxwwxywk3kUmE",
      "include_colab_link": true
    },
    "kernelspec": {
      "name": "python3",
      "display_name": "Python 3"
    },
    "language_info": {
      "name": "python"
    }
  },
  "cells": [
    {
      "cell_type": "markdown",
      "metadata": {
        "id": "view-in-github",
        "colab_type": "text"
      },
      "source": [
        "<a href=\"https://colab.research.google.com/github/4nands/Perceptron/blob/main/AND.ipynb\" target=\"_parent\"><img src=\"https://colab.research.google.com/assets/colab-badge.svg\" alt=\"Open In Colab\"/></a>"
      ]
    },
    {
      "cell_type": "code",
      "execution_count": 7,
      "metadata": {
        "colab": {
          "base_uri": "https://localhost:8080/"
        },
        "id": "OkiNanp46p6s",
        "outputId": "b7852f53-0679-458b-a3d4-a208824254e4"
      },
      "outputs": [
        {
          "output_type": "stream",
          "name": "stdout",
          "text": [
            "1\n"
          ]
        }
      ],
      "source": [
        "#ANDゲート\n",
        "\n",
        "#入力データ\n",
        "x1=0\n",
        "x2=0\n",
        "\n",
        "#重みとバイアス\n",
        "w1=0.5\n",
        "w2=0.5\n",
        "b=-0.7\n",
        "\n",
        "a=x1*w1+x2*w2+b\n",
        "\n",
        "y=(a>0)*1   #出力データ\n",
        "\n",
        "print(y)    #結果の表示"
      ]
    },
    {
      "cell_type": "code",
      "execution_count": 11,
      "metadata": {
        "colab": {
          "base_uri": "https://localhost:8080/"
        },
        "outputId": "9bf374b0-5dbe-4106-e1d3-fe08be23ee59",
        "id": "efTdMe0V8GAd"
      },
      "outputs": [
        {
          "output_type": "stream",
          "name": "stdout",
          "text": [
            "1\n"
          ]
        }
      ],
      "source": [
        "#ORゲート\n",
        "\n",
        "#入力データ\n",
        "x1=0\n",
        "x2=0\n",
        "\n",
        "#重みとバイアス\n",
        "w1=0.5\n",
        "w2=0.5\n",
        "b=-0.3\n",
        "\n",
        "a=x1*w1+x2*w2+b\n",
        "\n",
        "y=(a>0)*1   #出力データ\n",
        "\n",
        "print(y)    #結果の表示"
      ]
    }
  ]
}