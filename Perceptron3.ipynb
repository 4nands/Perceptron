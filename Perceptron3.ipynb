{
  "nbformat": 4,
  "nbformat_minor": 0,
  "metadata": {
    "colab": {
      "provenance": [],
      "collapsed_sections": [],
      "authorship_tag": "ABX9TyOvmpfHCRhL9+pF0dig3ADb",
      "include_colab_link": true
    },
    "kernelspec": {
      "name": "python3",
      "display_name": "Python 3"
    },
    "language_info": {
      "name": "python"
    }
  },
  "cells": [
    {
      "cell_type": "markdown",
      "metadata": {
        "id": "view-in-github",
        "colab_type": "text"
      },
      "source": [
        "<a href=\"https://colab.research.google.com/github/4nands/Perceptron/blob/main/Perceptron3.ipynb\" target=\"_parent\"><img src=\"https://colab.research.google.com/assets/colab-badge.svg\" alt=\"Open In Colab\"/></a>"
      ]
    },
    {
      "cell_type": "code",
      "execution_count": null,
      "metadata": {
        "id": "MvPLnZ2uqwHz"
      },
      "outputs": [],
      "source": [
        "import numpy as np\n",
        "\n",
        "class Perceptron:\n",
        "  def __init__(self): \n",
        "    #コンストラクタ\n",
        "    self.W=np.random.randn(2,1)  #重みの初期化\n",
        "    self.b=-0                     #バイアスの初期化\n",
        "    self.X=None               #入力データの保存用\n",
        "  \n",
        "  def forward(self,X):\n",
        "    #順伝播\n",
        "    a=np.matmul(X,self.W)+self.b\n",
        "    y=(a>0)*1\n",
        "    self.X=X        #入力データを保存\n",
        "    return y\n",
        "  \n",
        "  def backward(self,delta):\n",
        "    #逆伝播\n",
        "\n",
        "    #勾配\n",
        "    dW=np.matmul(self.X.T,delta)\n",
        "    db=np.sum(delta)\n",
        "\n",
        "    lr=0.1\n",
        "\n",
        "    #SGD パラメータの更新\n",
        "    self.W-=lr*dW\n",
        "    self.b-=lr*db\n",
        "  \n",
        "  def step(self,X,t):\n",
        "    y=self.forward(X)   #予測\n",
        "    delta=y-t           #誤差\n",
        "    self.backward(delta)\n",
        "\n",
        "    \n",
        "\n",
        "np.random.seed(0)   #乱数の初期化\n",
        "\n",
        "#教師データ\n",
        "X=np.array([[0,0],[1,0],[1,0],[1,1]]) #入力データ\n",
        "t=np.array([[0],[0],[0],[1]])         #正解ラベル\n",
        "\n",
        "model=Perceptron()   #インスタンス化\n",
        "print(model.W)          #学習前の重み\n",
        "model.step(X,t)         #１回だけ学習\n",
        "print(model.W)          #学習後の重み\n",
        "\n",
        "\n"
      ]
    }
  ]
}