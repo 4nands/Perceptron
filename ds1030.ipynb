{
  "nbformat": 4,
  "nbformat_minor": 0,
  "metadata": {
    "colab": {
      "provenance": [],
      "authorship_tag": "ABX9TyN7wOpx4m9xVAU2dtspozu7",
      "include_colab_link": true
    },
    "kernelspec": {
      "name": "python3",
      "display_name": "Python 3"
    },
    "language_info": {
      "name": "python"
    }
  },
  "cells": [
    {
      "cell_type": "markdown",
      "metadata": {
        "id": "view-in-github",
        "colab_type": "text"
      },
      "source": [
        "<a href=\"https://colab.research.google.com/github/4nands/Perceptron/blob/main/ds1030.ipynb\" target=\"_parent\"><img src=\"https://colab.research.google.com/assets/colab-badge.svg\" alt=\"Open In Colab\"/></a>"
      ]
    },
    {
      "cell_type": "code",
      "execution_count": null,
      "metadata": {
        "id": "GsavdFl98xjp"
      },
      "outputs": [],
      "source": [
        "import numpy as np\n",
        "\n",
        "#パーセプトロン\n",
        "\n",
        "class Perceptron:\n",
        "  def __init__(self):\n",
        "    #コンストラクタ\n",
        "    self.W=np.array([[0.5],[0.5]])  #重み\n",
        "    self.b=-0.7                     #バイアス\n",
        "    self.X=None                     #入力データの保存\n",
        "\n",
        "  def forward(self,X):\n",
        "    #順伝播\n",
        "    a=np.matmul(X,self.W)+self.b    #リニアーな変換\n",
        "    y=(a>0)*1                       #ステップ変換,\n",
        "    return y\n",
        "\n",
        "X=np.array([[0,0],[1,0],[0,1],[1,1]])   #入力データ\n",
        "\n",
        "model=Perceptron()   #パーセプトロンを実体化する\n",
        "pred=model.forward(X)        #入力データから出力データを得る。predは予測値\n",
        "\n",
        "print(pred)           #予測値を表示    \n"
      ]
    }
  ]
}