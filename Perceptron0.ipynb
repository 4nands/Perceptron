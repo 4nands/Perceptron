{
  "nbformat": 4,
  "nbformat_minor": 0,
  "metadata": {
    "colab": {
      "provenance": [],
      "authorship_tag": "ABX9TyNvUJs4LtFkDMRNG/kR1p1q",
      "include_colab_link": true
    },
    "kernelspec": {
      "name": "python3",
      "display_name": "Python 3"
    },
    "language_info": {
      "name": "python"
    }
  },
  "cells": [
    {
      "cell_type": "markdown",
      "metadata": {
        "id": "view-in-github",
        "colab_type": "text"
      },
      "source": [
        "<a href=\"https://colab.research.google.com/github/4nands/Perceptron/blob/main/Perceptron0.ipynb\" target=\"_parent\"><img src=\"https://colab.research.google.com/assets/colab-badge.svg\" alt=\"Open In Colab\"/></a>"
      ]
    },
    {
      "cell_type": "code",
      "execution_count": null,
      "metadata": {
        "id": "MvPLnZ2uqwHz"
      },
      "outputs": [],
      "source": [
        "import numpy as np\n",
        "\n",
        "class Perceptron:\n",
        "  def __init__(self,W,b): \n",
        "    #コンストラクタ\n",
        "    self.W=W\n",
        "    self.b=b\n",
        "  \n",
        "  def forward(self,X):\n",
        "    #順伝播\n",
        "    a=np.matmul(X,self.W)+self.b\n",
        "    y=(a>0)*1\n",
        "\n",
        "    return y\n",
        "\n",
        "X=np.array([[0,0],[1,0],[1,0],[1,1]]) #入力データ\n",
        "W=np.array([[0.5],[0.5]])\n",
        "b=-0.7\n",
        "\n",
        "model=Perceptron(W,b)   #インスタンス化\n",
        "y=model.forward(X)\n",
        "\n",
        "print(y)"
      ]
    }
  ]
}