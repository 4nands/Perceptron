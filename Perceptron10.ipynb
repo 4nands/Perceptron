{
  "nbformat": 4,
  "nbformat_minor": 0,
  "metadata": {
    "colab": {
      "provenance": [],
      "collapsed_sections": [],
      "authorship_tag": "ABX9TyMzNg6DsYEKmyaYuXzI2Xa6",
      "include_colab_link": true
    },
    "kernelspec": {
      "name": "python3",
      "display_name": "Python 3"
    },
    "language_info": {
      "name": "python"
    }
  },
  "cells": [
    {
      "cell_type": "markdown",
      "metadata": {
        "id": "view-in-github",
        "colab_type": "text"
      },
      "source": [
        "<a href=\"https://colab.research.google.com/github/4nands/Perceptron/blob/main/Perceptron10.ipynb\" target=\"_parent\"><img src=\"https://colab.research.google.com/assets/colab-badge.svg\" alt=\"Open In Colab\"/></a>"
      ]
    },
    {
      "cell_type": "code",
      "execution_count": 9,
      "metadata": {
        "id": "MvPLnZ2uqwHz",
        "colab": {
          "base_uri": "https://localhost:8080/",
          "height": 338
        },
        "outputId": "9da07b95-6583-45d1-d0c3-c39061574d7f"
      },
      "outputs": [
        {
          "output_type": "display_data",
          "data": {
            "text/plain": [
              "<Figure size 432x288 with 1 Axes>"
            ],
            "image/png": "[encoded data removed]"
          },
          "metadata": {
            "needs_background": "light"
          }
        },
        {
          "output_type": "stream",
          "name": "stdout",
          "text": [
            "[[0]\n",
            " [0]\n",
            " [0]\n",
            " [1]]\n"
          ]
        }
      ],
      "source": [
        "import numpy as np\n",
        "import matplotlib.pyplot as plt\n",
        "\n",
        "def sigmoid(x):\n",
        "  #シグモイド関数\n",
        "  return 1/(1+np.exp(-x)+1e-6)    #1e-6は分母が0になるのを防ぐため\n",
        "\n",
        "class Perceptron:\n",
        "  def __init__(self): \n",
        "    #コンストラクタ\n",
        "    self.W=np.random.randn(2,1)  #重みの初期化\n",
        "    self.b=-0                     #バイアスの初期化\n",
        "    self.X=None               #入力データの保存用\n",
        "  \n",
        "  def forward(self,X):\n",
        "    #順伝播\n",
        "    a=np.matmul(X,self.W)+self.b\n",
        "    y=(a>0)*1       #ステップ関数\n",
        "    #y=sigmoid(a)     #シグモイド関数　活性化関数\n",
        "    self.X=X        #入力データを保存\n",
        "    return y\n",
        "  \n",
        "  def backward(self,delta):\n",
        "    #逆伝播\n",
        "\n",
        "    #勾配\n",
        "    dW=np.matmul(self.X.T,delta)\n",
        "    db=np.sum(delta)\n",
        "\n",
        "    lr=0.1\n",
        "\n",
        "    #SGD パラメータの更新\n",
        "    self.W-=lr*dW\n",
        "    self.b-=lr*db\n",
        "  def loss(self,y,t):\n",
        "    #損失関数         MSE：mean squared error\n",
        "    se=(y-t)**2   #誤差の２乗\n",
        "    return np.sum(se)*0.5       #誤差の２乗を足す。平均をとるためにデータ数で割るのは省略。0.5は数学上のテクニック（２年になれば分かる）\n",
        "\n",
        "  def step(self,X,t):\n",
        "    #一回分の学習\n",
        "\n",
        "    y=self.forward(X)   #予測\n",
        "    delta=y-t           #誤差\n",
        "    self.backward(delta) #逆伝播してパラメータを更新\n",
        "    return self.loss(y,t)       #損失関数を計算する\n",
        "\n",
        "  def fit(self,X,t,epochs=100):\n",
        "    #学習\n",
        "    loss=[]       #損失の初期化\n",
        "    for __ in range(epochs): #epochsはエポック数\n",
        "      l=self.step(X,t)  #１回分の学習\n",
        "      loss.append(l)    #損失を記録\n",
        "    return loss       #損失を返す\n",
        "  def predict(self,X):\n",
        "    #予測\n",
        "    y=self.forward(X)\n",
        "    return (y>0.5)*1\n",
        "\n",
        "np.random.seed(0)   #乱数の初期化\n",
        "\n",
        "#教師データ\n",
        "X=np.array([[0,0],[1,0],[0,1],[1,1]]) #入力データ\n",
        "t=np.array([[0],[0],[0],[1]])         #ANDの正解ラベル\n",
        "\n",
        "model=Perceptron()   #ANDゲート\n",
        "loss=model.fit(X,t,epochs=10)      #学習\n",
        "plt.plot(loss)       #損失関数をグラフにする。\n",
        "plt.show()\n",
        "\n",
        "pred=model.predict(X)   #予測\n",
        "print(pred)\n"
      ]
    }
  ]
}