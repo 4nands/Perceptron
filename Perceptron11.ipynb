{
  "nbformat": 4,
  "nbformat_minor": 0,
  "metadata": {
    "colab": {
      "provenance": [],
      "collapsed_sections": [],
      "authorship_tag": "ABX9TyOmRrWXnQ0JOJZBq7+jZzu9",
      "include_colab_link": true
    },
    "kernelspec": {
      "name": "python3",
      "display_name": "Python 3"
    },
    "language_info": {
      "name": "python"
    }
  },
  "cells": [
    {
      "cell_type": "markdown",
      "metadata": {
        "id": "view-in-github",
        "colab_type": "text"
      },
      "source": [
        "<a href=\"https://colab.research.google.com/github/4nands/Perceptron/blob/main/Perceptron11.ipynb\" target=\"_parent\"><img src=\"https://colab.research.google.com/assets/colab-badge.svg\" alt=\"Open In Colab\"/></a>"
      ]
    },
    {
      "cell_type": "code",
      "execution_count": null,
      "metadata": {
        "id": "MvPLnZ2uqwHz"
      },
      "outputs": [],
      "source": [
        "from sklearn.linear_model import Perceptron\n",
        "\n",
        "#scikit-learnを使おう\n",
        "\n",
        "ppn=Perceptron()  #パーセプトロンの初期化\n",
        "\n",
        "#学習用のデータ\n",
        "x=[[0,0],[1,0],[0,1],[1,1]]       #入力データ\n",
        "y=[0,0,0,1]                       #正解データ\n",
        "\n",
        "ppn.fit(x,y)  #学習\n",
        "\n",
        "pred=ppn.predict(x)   #予測\n",
        "print(pred)           #予測値の表示"
      ]
    }
  ]
}