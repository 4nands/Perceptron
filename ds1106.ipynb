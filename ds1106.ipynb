{
  "nbformat": 4,
  "nbformat_minor": 0,
  "metadata": {
    "colab": {
      "provenance": [],
      "collapsed_sections": [],
      "authorship_tag": "ABX9TyNmOcUTqpQd5Eu8rXJ4iUA2",
      "include_colab_link": true
    },
    "kernelspec": {
      "name": "python3",
      "display_name": "Python 3"
    },
    "language_info": {
      "name": "python"
    }
  },
  "cells": [
    {
      "cell_type": "markdown",
      "metadata": {
        "id": "view-in-github",
        "colab_type": "text"
      },
      "source": [
        "<a href=\"https://colab.research.google.com/github/4nands/Perceptron/blob/main/ds1106.ipynb\" target=\"_parent\"><img src=\"https://colab.research.google.com/assets/colab-badge.svg\" alt=\"Open In Colab\"/></a>"
      ]
    },
    {
      "cell_type": "code",
      "execution_count": 9,
      "metadata": {
        "colab": {
          "base_uri": "https://localhost:8080/"
        },
        "id": "h7HsLMgKwHpb",
        "outputId": "9bd148ad-ac97-4df9-9acd-745f01c0cade"
      },
      "outputs": [
        {
          "output_type": "stream",
          "name": "stdout",
          "text": [
            "[[0]\n",
            " [1]\n",
            " [0]\n",
            " [0]]\n"
          ]
        }
      ],
      "source": [
        "import numpy as np\n",
        "import matplotlib.pyplot as plt\n",
        "\n",
        "def sigmoid(x):   #シグモイド関数\n",
        "  return 1/(1+np.exp(-x)+1e-6)\n",
        "\n",
        "class Linear:   #線形層\n",
        "  def __init__(self,n,m): #コンストラクタ\n",
        "    self.W=np.random.randn(n,m)   #重みの初期化\n",
        "    self.b=np.zeros(m)            #バイアスの初期化\n",
        "    self.X=None                   #入力データの保存用\n",
        "  \n",
        "  def forward(self,X):    #順伝播  \n",
        "    self.X=X                      #入力データの保存\n",
        "    return np.matmul(X,self.W)+self.b   #アフィン変換\n",
        "  \n",
        "  def backward(self,delta): #逆伝播\n",
        "    #勾配を求める。\n",
        "    dW=np.matmul(self.X.T,delta)      \n",
        "    db=np.sum(delta,axis=0)\n",
        "\n",
        "    #誤差を求める。\n",
        "    dX=np.matmul(delta,self.W.T)\n",
        "\n",
        "    #パラメータの更新\n",
        "    self.W-=0.1*dW\n",
        "    self.b-=0.1*db\n",
        "\n",
        "    return dX\n",
        "\n",
        "class Sigmoid:  #シグモイド層\n",
        "  def __init__(self):\n",
        "    self.y=None   #出力データの保存用\n",
        "  def forward(self,X):  #順伝播\n",
        "    y=sigmoid(X)    #シグモイド関数\n",
        "    self.y=y        #出力データを保存\n",
        "    return y\n",
        "  def backward(self,delta): #逆伝播\n",
        "    return self.y*(1-self.y)*delta\n",
        "\n",
        "class MLP:      #多層パーセプトロン\n",
        "  def __init__(self,D,H,V):\n",
        "    l1=Linear(D,H)      #線形層\n",
        "    l2=Sigmoid()        #活性化層\n",
        "    l3=Linear(H,V)      #線形層\n",
        "\n",
        "    self.layers=[l1,l2,l3]    #レイヤー\n",
        "\n",
        "  def forward(self,X):  #順伝播\n",
        "    for l in self.layers:\n",
        "      X=l.forward(X)\n",
        "    return X\n",
        "  def backward(self,delta):   #逆伝播\n",
        "    for l in self.layers[::-1]:\n",
        "      delta=l.backward(delta)\n",
        "  def step(self,X,t):   #1回の学習\n",
        "    y=self.forward(X)       #順伝播\n",
        "    delta=sigmoid(y)-t      #出力を確率に変換して誤差を求める。\n",
        "    self.backward(delta)    #逆伝播\n",
        "  def fit(self,X,t,epochs=500):  #学習\n",
        "    for __ in range(epochs):\n",
        "      self.step(X,t)        #1回の学習\n",
        "  def predict(self,X):\n",
        "    a=self.forward(X)       #順伝播\n",
        "    y=sigmoid(a)            #出力を確率に変換\n",
        "    return (y>0.5)*1        #確率が0.5より大きければ１\n",
        "\n",
        "\n",
        "#教師データ\n",
        "X=np.array([[0,0],[1,0],[0,1],[1,1]])\n",
        "t=np.array([[0],[1],[0],[0]])\n",
        "\n",
        "model=MLP(2,5,1)    #インスタンス化\n",
        "model.fit(X,t)      #学習\n",
        "\n",
        "pred=model.predict(X)   #予測\n",
        "\n",
        "print(pred)     #予測結果を表示\n"
      ]
    }
  ]
}