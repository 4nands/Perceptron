{
  "nbformat": 4,
  "nbformat_minor": 0,
  "metadata": {
    "colab": {
      "provenance": [],
      "authorship_tag": "ABX9TyM8JDWAPwuIhcoCoJ38OjMx",
      "include_colab_link": true
    },
    "kernelspec": {
      "name": "python3",
      "display_name": "Python 3"
    },
    "language_info": {
      "name": "python"
    }
  },
  "cells": [
    {
      "cell_type": "markdown",
      "metadata": {
        "id": "view-in-github",
        "colab_type": "text"
      },
      "source": [
        "<a href=\"https://colab.research.google.com/github/4nands/Perceptron/blob/main/Matrix.ipynb\" target=\"_parent\"><img src=\"https://colab.research.google.com/assets/colab-badge.svg\" alt=\"Open In Colab\"/></a>"
      ]
    },
    {
      "cell_type": "code",
      "execution_count": null,
      "metadata": {
        "id": "1RhSs5ELncxa"
      },
      "outputs": [],
      "source": [
        "#ANDゲート\n",
        "\n",
        "import numpy as np\n",
        "\n",
        "X=np.array([[0,0],[1,0],[0,1],[1,1]])     #X=[x1,x2]　入力データ\n",
        "W=np.array([[0.5],[0.5]]) #W=[w1,w2]  重みベクトル\n",
        "b=-0.7                #バイアス\n",
        "\n",
        "print(\"入力データ\")\n",
        "print(X)\n",
        "\n",
        "print(\"\\n重み\")\n",
        "print(W)\n",
        "\n",
        "print(\"\\n行列積　XW\")\n",
        "print(np.matmul(X,W))\n",
        "\n",
        "print(\"\\nバイアス\")\n",
        "print(b)\n",
        "\n",
        "a=np.matmul(X,W)+b    #Affine変換\n",
        "\n",
        "print(\"\\nAffine変換\")\n",
        "print(a)\n",
        "\n",
        "y=(a>0)*1 #出力データ\n",
        "\n",
        "print(\"\\n出力データ\")\n",
        "print(y)  #結果を表示"
      ]
    }
  ]
}